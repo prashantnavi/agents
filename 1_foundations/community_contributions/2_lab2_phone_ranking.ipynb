{
 "cells": [
  {
   "cell_type": "markdown",
   "metadata": {},
   "source": [
    "## Welcome to the Second Lab - Week 1, Day 3\n",
    "\n",
    "Today we will work with lots of models! This is a way to get comfortable with APIs."
   ]
  },
  {
   "cell_type": "code",
   "execution_count": 2,
   "metadata": {},
   "outputs": [],
   "source": [
    "# Start with imports - ask ChatGPT to explain any package that you don't know\n",
    "\n",
    "import os\n",
    "import json\n",
    "from dotenv import load_dotenv\n",
    "from openai import OpenAI\n",
    "from anthropic import Anthropic\n",
    "from IPython.display import Markdown, display"
   ]
  },
  {
   "cell_type": "code",
   "execution_count": 3,
   "metadata": {},
   "outputs": [
    {
     "data": {
      "text/plain": [
       "True"
      ]
     },
     "execution_count": 3,
     "metadata": {},
     "output_type": "execute_result"
    }
   ],
   "source": [
    "# Always remember to do this!\n",
    "load_dotenv(override=True)"
   ]
  },
  {
   "cell_type": "code",
   "execution_count": 4,
   "metadata": {},
   "outputs": [
    {
     "name": "stdout",
     "output_type": "stream",
     "text": [
      "OpenAI API Key exists and begins sk-proj-\n",
      "Anthropic API Key exists and begins sk-ant-\n",
      "Google API Key exists and begins AI\n",
      "DeepSeek API Key exists and begins sk-\n",
      "Groq API Key exists and begins gsk_\n"
     ]
    }
   ],
   "source": [
    "# Print the key prefixes to help with any debugging\n",
    "\n",
    "openai_api_key = os.getenv('OPENAI_API_KEY')\n",
    "anthropic_api_key = os.getenv('ANTHROPIC_API_KEY')\n",
    "google_api_key = os.getenv('GOOGLE_API_KEY')\n",
    "deepseek_api_key = os.getenv('DEEPSEEK_API_KEY')\n",
    "groq_api_key = os.getenv('GROQ_API_KEY')\n",
    "\n",
    "if openai_api_key:\n",
    "    print(f\"OpenAI API Key exists and begins {openai_api_key[:8]}\")\n",
    "else:\n",
    "    print(\"OpenAI API Key not set\")\n",
    "    \n",
    "if anthropic_api_key:\n",
    "    print(f\"Anthropic API Key exists and begins {anthropic_api_key[:7]}\")\n",
    "else:\n",
    "    print(\"Anthropic API Key not set (and this is optional)\")\n",
    "\n",
    "if google_api_key:\n",
    "    print(f\"Google API Key exists and begins {google_api_key[:2]}\")\n",
    "else:\n",
    "    print(\"Google API Key not set (and this is optional)\")\n",
    "\n",
    "if deepseek_api_key:\n",
    "    print(f\"DeepSeek API Key exists and begins {deepseek_api_key[:3]}\")\n",
    "else:\n",
    "    print(\"DeepSeek API Key not set (and this is optional)\")\n",
    "\n",
    "if groq_api_key:\n",
    "    print(f\"Groq API Key exists and begins {groq_api_key[:4]}\")\n",
    "else:\n",
    "    print(\"Groq API Key not set (and this is optional)\")"
   ]
  },
  {
   "cell_type": "code",
   "execution_count": 14,
   "metadata": {},
   "outputs": [],
   "source": [
    "request = \"Please list phones in Indian market and provide their features from most to least preferred.\"\n",
    "messages = [{\"role\": \"user\", \"content\": request}]"
   ]
  },
  {
   "cell_type": "code",
   "execution_count": 15,
   "metadata": {},
   "outputs": [
    {
     "data": {
      "text/plain": [
       "[{'role': 'user',\n",
       "  'content': 'Please list phones in Indian market and provide their features from most to least preferred.'}]"
      ]
     },
     "execution_count": 15,
     "metadata": {},
     "output_type": "execute_result"
    }
   ],
   "source": [
    "messages"
   ]
  },
  {
   "cell_type": "code",
   "execution_count": null,
   "metadata": {},
   "outputs": [],
   "source": [
    "openai = OpenAI()\n",
    "response = openai.chat.completions.create(\n",
    "    model=\"gpt-4o-mini\",\n",
    "    messages=messages,\n",
    ")\n",
    "phones = response.choices[0].message.content\n",
    "print(phones)\n"
   ]
  },
  {
   "cell_type": "code",
   "execution_count": 18,
   "metadata": {},
   "outputs": [],
   "source": [
    "competitors = []\n",
    "answers = []\n",
    "messages = [{\"role\": \"user\", \"content\": phones}]"
   ]
  },
  {
   "cell_type": "code",
   "execution_count": null,
   "metadata": {},
   "outputs": [],
   "source": [
    "# The API we know well\n",
    "\n",
    "model_name = \"gpt-4o-mini\"\n",
    "\n",
    "response = openai.chat.completions.create(model=model_name, messages=messages)\n",
    "answer = response.choices[0].message.content\n",
    "\n",
    "display(Markdown(answer))\n",
    "competitors.append(model_name)\n",
    "answers.append(answer)"
   ]
  },
  {
   "cell_type": "code",
   "execution_count": null,
   "metadata": {},
   "outputs": [],
   "source": [
    "gemini = OpenAI(api_key=google_api_key, base_url=\"https://generativelanguage.googleapis.com/v1beta/openai/\")\n",
    "model_name = \"gemini-2.0-flash\"\n",
    "\n",
    "response = gemini.chat.completions.create(model=model_name, messages=messages)\n",
    "answer = response.choices[0].message.content\n",
    "\n",
    "display(Markdown(answer))\n",
    "competitors.append(model_name)\n",
    "answers.append(answer)"
   ]
  },
  {
   "cell_type": "code",
   "execution_count": null,
   "metadata": {},
   "outputs": [],
   "source": [
    "!ollama pull llama3.2"
   ]
  },
  {
   "cell_type": "code",
   "execution_count": null,
   "metadata": {},
   "outputs": [],
   "source": [
    "ollama = OpenAI(base_url='http://localhost:11434/v1', api_key='ollama')\n",
    "model_name = \"llama3.2\"\n",
    "\n",
    "response = ollama.chat.completions.create(model=model_name, messages=messages)\n",
    "answer = response.choices[0].message.content\n",
    "\n",
    "display(Markdown(answer))\n",
    "competitors.append(model_name)\n",
    "answers.append(answer)"
   ]
  },
  {
   "cell_type": "code",
   "execution_count": null,
   "metadata": {},
   "outputs": [],
   "source": [
    "# So where are we?\n",
    "\n",
    "print(competitors)\n",
    "print(answers)\n"
   ]
  },
  {
   "cell_type": "code",
   "execution_count": 24,
   "metadata": {},
   "outputs": [
    {
     "name": "stdout",
     "output_type": "stream",
     "text": [
      "Competitor: gpt-4o-mini\n",
      "\n",
      "As of October 2023, the Indian smartphone market indeed presents a diverse range of devices catering to various consumer needs. Below is a summary of some of the most popular smartphones according to their features and consumer preferences.\n",
      "\n",
      "### Top Smartphones in India (October 2023)\n",
      "\n",
      "#### 1. **Apple iPhone 15 Pro/Pro Max**\n",
      "   - **Key Features:**\n",
      "     - Display: 6.1\"/6.7\" Super Retina XDR\n",
      "     - Processor: A17 Pro chip\n",
      "     - Camera: Triple 48MP + 12MP + 12MP\n",
      "     - Battery: Excellent all-day optimization\n",
      "     - Additional: Face ID, 5G, premium build quality\n",
      "\n",
      "#### 2. **Samsung Galaxy S23 Ultra**\n",
      "   - **Key Features:**\n",
      "     - Display: 6.8\" Dynamic AMOLED 2X\n",
      "     - Processor: Snapdragon 8 Gen 2\n",
      "     - Camera: Quad 200MP + 12MP + 10MP + 10MP\n",
      "     - Battery: 5000mAh\n",
      "     - Additional: S Pen, IP68 rating, One UI\n",
      "\n",
      "#### 3. **OnePlus 11**\n",
      "   - **Key Features:**\n",
      "     - Display: 6.7\" Fluid AMOLED\n",
      "     - Processor: Snapdragon 8 Gen 2\n",
      "     - Camera: Triple 50MP + 48MP + 32MP\n",
      "     - Battery: 5000mAh\n",
      "     - Additional: OxygenOS, excellent value\n",
      "\n",
      "#### 4. **Google Pixel 8 Pro**\n",
      "   - **Key Features:**\n",
      "     - Display: 6.7\" LTPO OLED\n",
      "     - Processor: Google Tensor G3\n",
      "     - Camera: Triple 50MP + 48MP + 48MP\n",
      "     - Battery: 5050mAh\n",
      "     - Additional: Stock Android, top-tier camera performance\n",
      "\n",
      "#### 5. **Xiaomi 13 Pro**\n",
      "   - **Key Features:**\n",
      "     - Display: 6.73\" AMOLED\n",
      "     - Processor: Snapdragon 8 Gen 2\n",
      "     - Camera: Triple 50MP (all lenses)\n",
      "     - Battery: 4820mAh\n",
      "     - Additional: MIUI features, strong design\n",
      "\n",
      "#### 6. **Vivo X90 Pro**\n",
      "   - **Key Features:**\n",
      "     - Display: 6.78\" AMOLED\n",
      "     - Processor: MediaTek Dimensity 9200\n",
      "     - Camera: Triple 50MP + 50MP + 12MP\n",
      "     - Battery: 4870mAh\n",
      "     - Additional: Advanced camera tech, high performance\n",
      "\n",
      "#### 7. **Realme GT 2 Pro**\n",
      "   - **Key Features:**\n",
      "     - Display: 6.7\" AMOLED\n",
      "     - Processor: Snapdragon 8 Gen 1\n",
      "     - Camera: Triple 50MP + 50MP + 3MP\n",
      "     - Battery: 5000mAh\n",
      "     - Additional: Competitive pricing, decent performance\n",
      "\n",
      "#### 8. **Samsung Galaxy A54**\n",
      "   - **Key Features:**\n",
      "     - Display: 6.4\" Super AMOLED\n",
      "     - Processor: Exynos 1380\n",
      "     - Camera: Triple 50MP + 12MP + 5MP\n",
      "     - Battery: 5000mAh\n",
      "     - Additional: Reliable mid-range option\n",
      "\n",
      "#### 9. **Oppo Reno8 Pro**\n",
      "   - **Key Features:**\n",
      "     - Display: 6.7\" AMOLED\n",
      "     - Processor: MediaTek Dimensity 8100-Max\n",
      "     - Camera: Triple 50MP + 8MP + 2MP\n",
      "     - Battery: 4500mAh\n",
      "     - Additional: Sleek design, impressive camera capabilities\n",
      "\n",
      "#### 10. **Poco F5**\n",
      "   - **Key Features:**\n",
      "     - Display: 6.67\" AMOLED\n",
      "     - Processor: Snapdragon 7+ Gen 2\n",
      "     - Camera: Triple 64MP + 8MP + 2MP\n",
      "     - Battery: 5000mAh\n",
      "     - Additional: Excellent value for performance-focused buyers\n",
      "\n",
      "### Conclusion\n",
      "The smartphones listed reflect the current trends and technological advancements in the Indian market. Factors influencing consumer decisions include camera quality, battery performance, software experience, brand reputation, and overall value for money. Given the dynamic nature of the smartphone market, it is advisable to consult recent reviews and specifications before making any purchase decisions.\n",
      "Competitor: gemini-2.0-flash\n",
      "\n",
      "This is a well-structured and informative list of popular smartphones in the Indian market as of October 2023. Here are a few of my thoughts and suggestions:\n",
      "\n",
      "**Strengths:**\n",
      "\n",
      "*   **Comprehensive:** The list covers a good range of price points, from ultra-premium to more mid-range options.\n",
      "*   **Detailed Specifications:** Including display type/size, processor, camera configuration, battery life, and key features provides a good overview.\n",
      "*   **Succinct Feature Descriptions:** Each phone's \"features\" section highlights what makes it stand out.\n",
      "*   **Well-Organized:** The descending order of popularity (even though subjective) is a useful way to present the information.\n",
      "*   **Disclaimer:**  The concluding paragraph with the disclaimer about subjectivity and the need to check latest reviews is crucial and responsible.\n",
      "\n",
      "**Potential Improvements & Considerations:**\n",
      "\n",
      "*   **Price Ranges:** While you can infer price based on the phone's ranking and features, explicitly mentioning the approximate price range for each phone (e.g., \"₹70,000 - ₹85,000\") would significantly enhance the list's usefulness.  This is especially helpful as prices can fluctuate.  You could categorize them:  \"Budget,\" \"Mid-Range,\" \"Premium,\" \"Ultra-Premium.\"\n",
      "*   **Target Audience:** Briefly mentioning the target audience for each phone (e.g., \"best for photographers,\" \"ideal for gamers,\" \"great for budget-conscious users\") would make it even more helpful.\n",
      "*   **Specific Advantages/Disadvantages:**  Instead of just listing \"features,\" consider a brief \"Pros & Cons\" section for each phone. For example:\n",
      "    *   **Google Pixel 8 Pro:** Pros: Exceptional camera, clean Android experience. Cons: Can be expensive, processor performance sometimes lags.\n",
      "*   **Operating System Versions:**  While you mention the OS (iOS, Android), including the specific version (e.g., Android 14, iOS 17) would add another layer of detail.\n",
      "*   **India-Specific Considerations:**  Are there specific warranty terms, availability of certain colors/configurations, or operator bundles that are relevant to the Indian market?\n",
      "*   **Consider adding links:** You can add affiliate links for each one to earn revenue.\n",
      "\n",
      "**Example Incorporating Suggestions (Focusing on just one entry):**\n",
      "\n",
      "**4. Google Pixel 8 Pro**\n",
      "\n",
      "*   **Display:** 6.7\" LTPO OLED\n",
      "*   **Processor:** Google Tensor G3\n",
      "*   **Camera:** Triple 50MP (main) + 48MP (ultra-wide) + 48MP (telephoto)\n",
      "*   **Battery Life:** 5050mAh with fast charging\n",
      "*   **Operating System:** Android 14\n",
      "*   **Price Range:** ₹85,000 - ₹95,000 (Premium)\n",
      "*   **Target Audience:** Photography enthusiasts, users who prefer a clean Android experience.\n",
      "*   **Pros:**\n",
      "    *   Best-in-class camera performance with excellent image processing.\n",
      "    *   Clean, bloatware-free Android experience with guaranteed updates.\n",
      "    *   Innovative AI-powered features (Magic Eraser, Photo Unblur).\n",
      "*   **Cons:**\n",
      "    *   Expensive compared to other Android phones with similar specs.\n",
      "    *   Tensor G3 processor may not be as powerful as Snapdragon 8 Gen 2 in certain tasks.\n",
      "    *   Design is iterative, not a major departure from previous Pixel models.\n",
      "\n",
      "**Overall:**\n",
      "\n",
      "This is a strong foundation for a smartphone recommendation list. Adding the price range, target audience, and brief \"pros & cons\" would elevate it significantly and make it an even more valuable resource for potential buyers in the Indian market. Remember to keep it updated as new phones are released and prices change.\n",
      "\n",
      "Competitor: llama3.2\n",
      "\n",
      "Based on the provided information, here's a summary of the top 10 best-selling smartphones in India, along with their key features:\n",
      "\n",
      "1. **Apple iPhone 15 Pro/Pro Max**:\n",
      "\t* Display: 6.1\"/6.7\" Super Retina XDR\n",
      "\t* Processor: A17 Pro chip\n",
      "\t* Camera: Triple 48MP (main) + 12MP (ultra-wide) + 12MP (telephoto)\n",
      "\t* Battery Life: Excellent optimization, all-day battery\n",
      "2. **Samsung Galaxy S23 Ultra**:\n",
      "\t* Display: 6.8\" Dynamic AMOLED 2X\n",
      "\t* Processor: Snapdragon 8 Gen 2\n",
      "\t* Camera: Quad 200MP (main) + 12MP (ultra-wide) + 10MP (telephoto) + 10MP (periscope)\n",
      "\t* Battery Life: 5000mAh with fast charging support\n",
      "3. **OnePlus 11**:\n",
      "\t* Display: 6.7\" Fluid AMOLED\n",
      "\t* Processor: Snapdragon 8 Gen 2\n",
      "\t* Camera: Triple 50MP (main) + 48MP (ultra-wide) + 32MP (telephoto)\n",
      "\t* Battery Life: 5000mAh, fast charging support\n",
      "\n",
      "These three top smartphone brands dominate the Indian market due to their reputation for delivering high-performance devices with impressive camera capabilities and premium build quality.\n"
     ]
    }
   ],
   "source": [
    "# It's nice to know how to use \"zip\"\n",
    "for competitor, answer in zip(competitors, answers):\n",
    "    print(f\"Competitor: {competitor}\\n\\n{answer}\")\n"
   ]
  },
  {
   "cell_type": "code",
   "execution_count": 25,
   "metadata": {},
   "outputs": [],
   "source": [
    "# Let's bring this together - note the use of \"enumerate\"\n",
    "\n",
    "together = \"\"\n",
    "for index, answer in enumerate(answers):\n",
    "    together += f\"# Response from competitor {index+1}\\n\\n\"\n",
    "    together += answer + \"\\n\\n\""
   ]
  },
  {
   "cell_type": "code",
   "execution_count": 26,
   "metadata": {},
   "outputs": [
    {
     "name": "stdout",
     "output_type": "stream",
     "text": [
      "# Response from competitor 1\n",
      "\n",
      "As of October 2023, the Indian smartphone market indeed presents a diverse range of devices catering to various consumer needs. Below is a summary of some of the most popular smartphones according to their features and consumer preferences.\n",
      "\n",
      "### Top Smartphones in India (October 2023)\n",
      "\n",
      "#### 1. **Apple iPhone 15 Pro/Pro Max**\n",
      "   - **Key Features:**\n",
      "     - Display: 6.1\"/6.7\" Super Retina XDR\n",
      "     - Processor: A17 Pro chip\n",
      "     - Camera: Triple 48MP + 12MP + 12MP\n",
      "     - Battery: Excellent all-day optimization\n",
      "     - Additional: Face ID, 5G, premium build quality\n",
      "\n",
      "#### 2. **Samsung Galaxy S23 Ultra**\n",
      "   - **Key Features:**\n",
      "     - Display: 6.8\" Dynamic AMOLED 2X\n",
      "     - Processor: Snapdragon 8 Gen 2\n",
      "     - Camera: Quad 200MP + 12MP + 10MP + 10MP\n",
      "     - Battery: 5000mAh\n",
      "     - Additional: S Pen, IP68 rating, One UI\n",
      "\n",
      "#### 3. **OnePlus 11**\n",
      "   - **Key Features:**\n",
      "     - Display: 6.7\" Fluid AMOLED\n",
      "     - Processor: Snapdragon 8 Gen 2\n",
      "     - Camera: Triple 50MP + 48MP + 32MP\n",
      "     - Battery: 5000mAh\n",
      "     - Additional: OxygenOS, excellent value\n",
      "\n",
      "#### 4. **Google Pixel 8 Pro**\n",
      "   - **Key Features:**\n",
      "     - Display: 6.7\" LTPO OLED\n",
      "     - Processor: Google Tensor G3\n",
      "     - Camera: Triple 50MP + 48MP + 48MP\n",
      "     - Battery: 5050mAh\n",
      "     - Additional: Stock Android, top-tier camera performance\n",
      "\n",
      "#### 5. **Xiaomi 13 Pro**\n",
      "   - **Key Features:**\n",
      "     - Display: 6.73\" AMOLED\n",
      "     - Processor: Snapdragon 8 Gen 2\n",
      "     - Camera: Triple 50MP (all lenses)\n",
      "     - Battery: 4820mAh\n",
      "     - Additional: MIUI features, strong design\n",
      "\n",
      "#### 6. **Vivo X90 Pro**\n",
      "   - **Key Features:**\n",
      "     - Display: 6.78\" AMOLED\n",
      "     - Processor: MediaTek Dimensity 9200\n",
      "     - Camera: Triple 50MP + 50MP + 12MP\n",
      "     - Battery: 4870mAh\n",
      "     - Additional: Advanced camera tech, high performance\n",
      "\n",
      "#### 7. **Realme GT 2 Pro**\n",
      "   - **Key Features:**\n",
      "     - Display: 6.7\" AMOLED\n",
      "     - Processor: Snapdragon 8 Gen 1\n",
      "     - Camera: Triple 50MP + 50MP + 3MP\n",
      "     - Battery: 5000mAh\n",
      "     - Additional: Competitive pricing, decent performance\n",
      "\n",
      "#### 8. **Samsung Galaxy A54**\n",
      "   - **Key Features:**\n",
      "     - Display: 6.4\" Super AMOLED\n",
      "     - Processor: Exynos 1380\n",
      "     - Camera: Triple 50MP + 12MP + 5MP\n",
      "     - Battery: 5000mAh\n",
      "     - Additional: Reliable mid-range option\n",
      "\n",
      "#### 9. **Oppo Reno8 Pro**\n",
      "   - **Key Features:**\n",
      "     - Display: 6.7\" AMOLED\n",
      "     - Processor: MediaTek Dimensity 8100-Max\n",
      "     - Camera: Triple 50MP + 8MP + 2MP\n",
      "     - Battery: 4500mAh\n",
      "     - Additional: Sleek design, impressive camera capabilities\n",
      "\n",
      "#### 10. **Poco F5**\n",
      "   - **Key Features:**\n",
      "     - Display: 6.67\" AMOLED\n",
      "     - Processor: Snapdragon 7+ Gen 2\n",
      "     - Camera: Triple 64MP + 8MP + 2MP\n",
      "     - Battery: 5000mAh\n",
      "     - Additional: Excellent value for performance-focused buyers\n",
      "\n",
      "### Conclusion\n",
      "The smartphones listed reflect the current trends and technological advancements in the Indian market. Factors influencing consumer decisions include camera quality, battery performance, software experience, brand reputation, and overall value for money. Given the dynamic nature of the smartphone market, it is advisable to consult recent reviews and specifications before making any purchase decisions.\n",
      "\n",
      "# Response from competitor 2\n",
      "\n",
      "This is a well-structured and informative list of popular smartphones in the Indian market as of October 2023. Here are a few of my thoughts and suggestions:\n",
      "\n",
      "**Strengths:**\n",
      "\n",
      "*   **Comprehensive:** The list covers a good range of price points, from ultra-premium to more mid-range options.\n",
      "*   **Detailed Specifications:** Including display type/size, processor, camera configuration, battery life, and key features provides a good overview.\n",
      "*   **Succinct Feature Descriptions:** Each phone's \"features\" section highlights what makes it stand out.\n",
      "*   **Well-Organized:** The descending order of popularity (even though subjective) is a useful way to present the information.\n",
      "*   **Disclaimer:**  The concluding paragraph with the disclaimer about subjectivity and the need to check latest reviews is crucial and responsible.\n",
      "\n",
      "**Potential Improvements & Considerations:**\n",
      "\n",
      "*   **Price Ranges:** While you can infer price based on the phone's ranking and features, explicitly mentioning the approximate price range for each phone (e.g., \"₹70,000 - ₹85,000\") would significantly enhance the list's usefulness.  This is especially helpful as prices can fluctuate.  You could categorize them:  \"Budget,\" \"Mid-Range,\" \"Premium,\" \"Ultra-Premium.\"\n",
      "*   **Target Audience:** Briefly mentioning the target audience for each phone (e.g., \"best for photographers,\" \"ideal for gamers,\" \"great for budget-conscious users\") would make it even more helpful.\n",
      "*   **Specific Advantages/Disadvantages:**  Instead of just listing \"features,\" consider a brief \"Pros & Cons\" section for each phone. For example:\n",
      "    *   **Google Pixel 8 Pro:** Pros: Exceptional camera, clean Android experience. Cons: Can be expensive, processor performance sometimes lags.\n",
      "*   **Operating System Versions:**  While you mention the OS (iOS, Android), including the specific version (e.g., Android 14, iOS 17) would add another layer of detail.\n",
      "*   **India-Specific Considerations:**  Are there specific warranty terms, availability of certain colors/configurations, or operator bundles that are relevant to the Indian market?\n",
      "*   **Consider adding links:** You can add affiliate links for each one to earn revenue.\n",
      "\n",
      "**Example Incorporating Suggestions (Focusing on just one entry):**\n",
      "\n",
      "**4. Google Pixel 8 Pro**\n",
      "\n",
      "*   **Display:** 6.7\" LTPO OLED\n",
      "*   **Processor:** Google Tensor G3\n",
      "*   **Camera:** Triple 50MP (main) + 48MP (ultra-wide) + 48MP (telephoto)\n",
      "*   **Battery Life:** 5050mAh with fast charging\n",
      "*   **Operating System:** Android 14\n",
      "*   **Price Range:** ₹85,000 - ₹95,000 (Premium)\n",
      "*   **Target Audience:** Photography enthusiasts, users who prefer a clean Android experience.\n",
      "*   **Pros:**\n",
      "    *   Best-in-class camera performance with excellent image processing.\n",
      "    *   Clean, bloatware-free Android experience with guaranteed updates.\n",
      "    *   Innovative AI-powered features (Magic Eraser, Photo Unblur).\n",
      "*   **Cons:**\n",
      "    *   Expensive compared to other Android phones with similar specs.\n",
      "    *   Tensor G3 processor may not be as powerful as Snapdragon 8 Gen 2 in certain tasks.\n",
      "    *   Design is iterative, not a major departure from previous Pixel models.\n",
      "\n",
      "**Overall:**\n",
      "\n",
      "This is a strong foundation for a smartphone recommendation list. Adding the price range, target audience, and brief \"pros & cons\" would elevate it significantly and make it an even more valuable resource for potential buyers in the Indian market. Remember to keep it updated as new phones are released and prices change.\n",
      "\n",
      "\n",
      "# Response from competitor 3\n",
      "\n",
      "Based on the provided information, here's a summary of the top 10 best-selling smartphones in India, along with their key features:\n",
      "\n",
      "1. **Apple iPhone 15 Pro/Pro Max**:\n",
      "\t* Display: 6.1\"/6.7\" Super Retina XDR\n",
      "\t* Processor: A17 Pro chip\n",
      "\t* Camera: Triple 48MP (main) + 12MP (ultra-wide) + 12MP (telephoto)\n",
      "\t* Battery Life: Excellent optimization, all-day battery\n",
      "2. **Samsung Galaxy S23 Ultra**:\n",
      "\t* Display: 6.8\" Dynamic AMOLED 2X\n",
      "\t* Processor: Snapdragon 8 Gen 2\n",
      "\t* Camera: Quad 200MP (main) + 12MP (ultra-wide) + 10MP (telephoto) + 10MP (periscope)\n",
      "\t* Battery Life: 5000mAh with fast charging support\n",
      "3. **OnePlus 11**:\n",
      "\t* Display: 6.7\" Fluid AMOLED\n",
      "\t* Processor: Snapdragon 8 Gen 2\n",
      "\t* Camera: Triple 50MP (main) + 48MP (ultra-wide) + 32MP (telephoto)\n",
      "\t* Battery Life: 5000mAh, fast charging support\n",
      "\n",
      "These three top smartphone brands dominate the Indian market due to their reputation for delivering high-performance devices with impressive camera capabilities and premium build quality.\n",
      "\n",
      "\n"
     ]
    }
   ],
   "source": [
    "print(together)"
   ]
  },
  {
   "cell_type": "code",
   "execution_count": 38,
   "metadata": {},
   "outputs": [],
   "source": [
    "judge = f\"\"\"You are judging a competition between {len(competitors)} competitors.\n",
    "Each model has been given this task:\n",
    "\n",
    "{phones}\n",
    "\n",
    "Your job is to evaluate each response for clarity and strength of argument, and rank them in order of best to worst.\n",
    "Respond with JSON, and only JSON, with the following format:\n",
    "{{\"results\": [\"best competitor number\", \"second best competitor number\", \"third best competitor number\", ...]}}\n",
    "\n",
    "Here are the responses from each competitor:\n",
    "\n",
    "{together}\n",
    "\n",
    "Now respond with the JSON with the ranked order of the competitors only in numeric order, nothing else. Do not include markdown formatting or code blocks.\"\"\"\n"
   ]
  },
  {
   "cell_type": "code",
   "execution_count": null,
   "metadata": {},
   "outputs": [],
   "source": [
    "print(judge)"
   ]
  },
  {
   "cell_type": "code",
   "execution_count": 40,
   "metadata": {},
   "outputs": [],
   "source": [
    "judge_messages = [{\"role\": \"user\", \"content\": judge}]"
   ]
  },
  {
   "cell_type": "code",
   "execution_count": 41,
   "metadata": {},
   "outputs": [
    {
     "name": "stdout",
     "output_type": "stream",
     "text": [
      "{\"results\": [\"1\", \"2\", \"3\"]}\n"
     ]
    }
   ],
   "source": [
    "# Judgement time!\n",
    "\n",
    "openai = OpenAI()\n",
    "response = openai.chat.completions.create(\n",
    "    model=\"gpt-4o-mini\",\n",
    "    messages=judge_messages,\n",
    ")\n",
    "results = response.choices[0].message.content\n",
    "print(results)\n"
   ]
  },
  {
   "cell_type": "code",
   "execution_count": 44,
   "metadata": {},
   "outputs": [
    {
     "name": "stdout",
     "output_type": "stream",
     "text": [
      "Rank 1: gpt-4o-mini\n",
      "Rank 2: gemini-2.0-flash\n",
      "Rank 3: llama3.2\n"
     ]
    }
   ],
   "source": [
    "# OK let's turn this into results!\n",
    "\n",
    "results_dict = json.loads(results)\n",
    "ranks = results_dict[\"results\"]\n",
    "for index, result in enumerate(ranks):\n",
    "    competitor = competitors[int(result)-1]\n",
    "    print(f\"Rank {index+1}: {competitor}\")"
   ]
  }
 ],
 "metadata": {
  "kernelspec": {
   "display_name": ".venv",
   "language": "python",
   "name": "python3"
  },
  "language_info": {
   "codemirror_mode": {
    "name": "ipython",
    "version": 3
   },
   "file_extension": ".py",
   "mimetype": "text/x-python",
   "name": "python",
   "nbconvert_exporter": "python",
   "pygments_lexer": "ipython3",
   "version": "3.12.11"
  }
 },
 "nbformat": 4,
 "nbformat_minor": 2
}
